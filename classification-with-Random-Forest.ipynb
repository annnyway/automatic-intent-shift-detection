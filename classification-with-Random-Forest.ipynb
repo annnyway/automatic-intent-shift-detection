{
 "cells": [
  {
   "cell_type": "markdown",
   "metadata": {},
   "source": [
    "# Классификация с алгоритмом \"Случайный лес\""
   ]
  },
  {
   "cell_type": "code",
   "execution_count": 19,
   "metadata": {},
   "outputs": [],
   "source": [
    "from razdel import tokenize\n",
    "from pyxdameraulevenshtein import normalized_damerau_levenshtein_distance\n",
    "import textdistance as j\n",
    "from scipy.spatial.distance import cosine\n",
    "from scipy.spatial.distance import euclidean\n",
    "from sklearn import preprocessing\n",
    "import numpy as np\n",
    "from itertools import product\n",
    "from collections import defaultdict\n",
    "import pulp\n",
    "import pandas as pd\n",
    "from tqdm.auto import tqdm\n",
    "from sklearn.metrics import classification_report\n",
    "from string import punctuation\n",
    "from collections import defaultdict\n",
    "import fasttext\n",
    "import scipy\n",
    "import joblib\n",
    "\n",
    "punct = punctuation+'«»—…“”*–'"
   ]
  },
  {
   "cell_type": "markdown",
   "metadata": {},
   "source": [
    "## 1. Функции для извлечения признаков из векторов слов"
   ]
  },
  {
   "cell_type": "code",
   "execution_count": 40,
   "metadata": {},
   "outputs": [],
   "source": [
    "def tokenize_query(query):\n",
    "    line = query.strip()\n",
    "    tokens = list(tokenize(line))\n",
    "    tokens = [_.text.lower() for _ in tokens]         \n",
    "    tokens = [i for i in tokens if i not in punct]\n",
    "    return tokens"
   ]
  },
  {
   "cell_type": "code",
   "execution_count": 5,
   "metadata": {},
   "outputs": [],
   "source": [
    "# расстояние Дамерау-Левенштейна\n",
    "\n",
    "def levenstein(q1, q2):\n",
    "    return normalized_damerau_levenshtein_distance(q1, q2)"
   ]
  },
  {
   "cell_type": "code",
   "execution_count": 6,
   "metadata": {},
   "outputs": [],
   "source": [
    "# расстояние Монге-Эклан\n",
    "\n",
    "class MongeElkan():\n",
    "    '''\n",
    "    Accepts the inner similarity function\n",
    "    '''\n",
    "    def __init__(self):\n",
    "        pass\n",
    "    \n",
    "    def score(self,s,t,m):\n",
    "        '''\n",
    "        Input: s - multi-word string\n",
    "               t - multi-word string\n",
    "               m - power\n",
    "        Output : score\n",
    "        Note: In single word string, score = jaro-winkler score\n",
    "        '''\n",
    "        cummax = 0\n",
    "        \n",
    "        for ws in tokenize_query(s):\n",
    "            maxscore=0\n",
    "            for wt in tokenize_query(t):\n",
    "                maxscore = max(maxscore,(j.jaro_winkler(ws,wt))**m)\n",
    "            cummax += maxscore\n",
    "        \n",
    "        return (cummax/len(tokenize_query(s)))**(1/m)\n",
    "    \n",
    "def monge_eklan(q1, q2):\n",
    "    m = MongeElkan()\n",
    "    return 1 - m.score(q1, q2, m=2)"
   ]
  },
  {
   "cell_type": "code",
   "execution_count": 7,
   "metadata": {},
   "outputs": [],
   "source": [
    "# word overlap\n",
    "\n",
    "def overlap(q1, q2):\n",
    "    q1 = set(tokenize_query(q1))\n",
    "    q2 = set(tokenize_query(q2))\n",
    "    denom = (len(q1) + len(q2))/2\n",
    "    if denom == 0:\n",
    "        return 1.0\n",
    "    overlap_ratio = 1 - (len(q1 & q2)/denom)\n",
    "    return overlap_ratio"
   ]
  },
  {
   "cell_type": "code",
   "execution_count": 8,
   "metadata": {},
   "outputs": [],
   "source": [
    "# косинусное расстояние\n",
    "\n",
    "def cosine_dist(vec1, vec2): \n",
    "    return 1 - cosine(vec1, vec2)"
   ]
  },
  {
   "cell_type": "code",
   "execution_count": 9,
   "metadata": {},
   "outputs": [],
   "source": [
    "# евклидово расстояние\n",
    "\n",
    "def euclid(vec1, vec2, f_model=None):\n",
    "    vecs = preprocessing.normalize([vec1, vec2], norm='l2')\n",
    "    return 1 - scipy.spatial.distance.euclidean(vecs[0], vecs[1])"
   ]
  },
  {
   "cell_type": "code",
   "execution_count": 10,
   "metadata": {},
   "outputs": [],
   "source": [
    "# метрики на основе матрицы смежности\n",
    "\n",
    "def count_scores(q1, q2, model, similarity_function): # model - fasttext model\n",
    "    q1_tokens = tokenize_query(q1)\n",
    "    q2_tokens = tokenize_query(q2)\n",
    "    \n",
    "    # заполняем матрицу расстояний\n",
    "    sim_scores = []\n",
    "    for i,w_1 in enumerate(q1_tokens):\n",
    "        cur_sim_scores = []\n",
    "        for j,w_2 in enumerate(q2_tokens):\n",
    "            score = similarity_function(model.get_word_vector(w_1), model.get_word_vector(w_2))\n",
    "            cur_sim_scores.append(score)\n",
    "        sim_scores.append(cur_sim_scores)\n",
    "    \n",
    "    sim_scores = np.matrix(sim_scores)\n",
    "    \n",
    "    # считаем и возвращаем 4 признака\n",
    "    max_similar = np.max(sim_scores)\n",
    "    max_similar_idx = np.where(sim_scores == max_similar)\n",
    "    min_similar = np.min(sim_scores[max_similar_idx[0]])\n",
    "    \n",
    "    min_dissimilar = np.min(sim_scores)\n",
    "    min_dissimilar_idx = np.where(sim_scores == min_dissimilar)\n",
    "    max_dissimilar = np.max(sim_scores[min_dissimilar_idx[0]])\n",
    "    \n",
    "    return max_similar, min_similar, min_dissimilar, max_dissimilar"
   ]
  },
  {
   "cell_type": "code",
   "execution_count": 11,
   "metadata": {},
   "outputs": [
    {
     "name": "stderr",
     "output_type": "stream",
     "text": [
      "\n"
     ]
    }
   ],
   "source": [
    "# пример\n",
    "model = fasttext.load_model(\"../model-20-min-freq-3.bin\")"
   ]
  },
  {
   "cell_type": "code",
   "execution_count": 14,
   "metadata": {},
   "outputs": [
    {
     "data": {
      "text/plain": [
       "(0.9037832021713257,\n",
       " 0.9037832021713257,\n",
       " 0.1575290560722351,\n",
       " 0.1575290560722351)"
      ]
     },
     "execution_count": 14,
     "metadata": {},
     "output_type": "execute_result"
    }
   ],
   "source": [
    "res = count_scores(\"айфон купить бу\", \"iphone\", model, cosine_dist)\n",
    "res"
   ]
  },
  {
   "cell_type": "code",
   "execution_count": 15,
   "metadata": {},
   "outputs": [
    {
     "data": {
      "application/vnd.jupyter.widget-view+json": {
       "model_id": "abb1c696501248d3885275e22391aaf5",
       "version_major": 2,
       "version_minor": 0
      },
      "text/plain": [
       "HBox(children=(IntProgress(value=1, bar_style='info', max=1), HTML(value='')))"
      ]
     },
     "metadata": {},
     "output_type": "display_data"
    },
    {
     "name": "stdout",
     "output_type": "stream",
     "text": [
      "\n"
     ]
    }
   ],
   "source": [
    "# соберем словарь idf по корпусу заголовков объявлений\n",
    "freq_dict = defaultdict(int)\n",
    "document_count = 0\n",
    "\n",
    "prev_line = None\n",
    "\n",
    "for line in tqdm(open(\"/Users/amnikolaeva/hse/diplom/fastText-0.9.1/cleaned_titles_full.txt\", \"r\")):\n",
    "    \n",
    "    if line == prev_line:\n",
    "        continue\n",
    "    prev_line = line\n",
    "    \n",
    "    tokens = line.split()\n",
    "    for t in tokens:\n",
    "        freq_dict[t] += 1\n",
    "        \n",
    "    document_count += 1"
   ]
  },
  {
   "cell_type": "code",
   "execution_count": 16,
   "metadata": {},
   "outputs": [
    {
     "data": {
      "text/plain": [
       "(2485667, 54532823)"
      ]
     },
     "execution_count": 16,
     "metadata": {},
     "output_type": "execute_result"
    }
   ],
   "source": [
    "len(freq_dict), document_count"
   ]
  },
  {
   "cell_type": "code",
   "execution_count": 20,
   "metadata": {},
   "outputs": [],
   "source": [
    "# функция подсчета idf слов запроса\n",
    "\n",
    "def idf(query):\n",
    "    tokens = tokenize_query(query)\n",
    "    idf_scores = []\n",
    "    for token in tokens:\n",
    "        if freq_dict[token] == 0:            \n",
    "            idf_scores.append(-np.log(1/document_count))\n",
    "            continue\n",
    "        idf_scores.append(-np.log(freq_dict[token]/document_count))\n",
    "    return idf_scores"
   ]
  },
  {
   "cell_type": "code",
   "execution_count": 24,
   "metadata": {},
   "outputs": [],
   "source": [
    "# метрики на основе матрицы разниц idf\n",
    "\n",
    "def count_idf_scores(q1, q2):\n",
    "    vec1 = idf(q1)\n",
    "    vec2 = idf(q2)\n",
    "    \n",
    "    diffs = []\n",
    "    for i,w_1 in enumerate(vec1):\n",
    "        cur_diffs = []\n",
    "        for j,w_2 in enumerate(vec2):\n",
    "            score = w_1-w_2 # чем меньше разница в векторах, тем 2 слова ближе в векторном пространстве\n",
    "            cur_diffs.append(score)\n",
    "        diffs.append(cur_diffs)\n",
    "    \n",
    "    diff_scores = np.matrix(diffs)\n",
    "    \n",
    "    max_similar = np.max(diff_scores)\n",
    "    max_similar_idx = np.where(diff_scores == max_similar)\n",
    "    min_similar = np.min(diff_scores[max_similar_idx[0]])\n",
    "    \n",
    "    min_dissimilar = np.min(diff_scores)\n",
    "    min_dissimilar_idx = np.where(diff_scores == min_dissimilar)\n",
    "    max_dissimilar = np.max(diff_scores[min_dissimilar_idx[0]])\n",
    "    \n",
    "    return max_similar, min_similar, min_dissimilar, max_dissimilar"
   ]
  },
  {
   "cell_type": "markdown",
   "metadata": {},
   "source": [
    "##  2. Функция для рассчета всех признаков"
   ]
  },
  {
   "cell_type": "code",
   "execution_count": 22,
   "metadata": {},
   "outputs": [],
   "source": [
    "# загружаем заранее извлеченные вектора fasttext для слов из тренировочного корпуса \n",
    "\n",
    "tok2vec = joblib.load(\"../../classification/token2vec.pkl\") "
   ]
  },
  {
   "cell_type": "code",
   "execution_count": 38,
   "metadata": {},
   "outputs": [],
   "source": [
    "def get_features(pairs):\n",
    "    vecs = []\n",
    "    for q1, q2 in tqdm(pairs):\n",
    "        cur_vec = []\n",
    "        cur_vec.append(cosine_dist(\n",
    "            model.get_sentence_vector(\" \".join(tokenize_query(q1))), \n",
    "            model.get_sentence_vector(\" \".join(tokenize_query(q2)))\n",
    "        ))\n",
    "        cur_vec.append(euclid(\n",
    "            model.get_sentence_vector(\" \".join(tokenize_query(q1))), \n",
    "            model.get_sentence_vector(\" \".join(tokenize_query(q2)))\n",
    "        ))\n",
    "        cur_vec.append(levenstein(q1,q2))\n",
    "        cur_vec.append(monge_eklan(q1,q2))\n",
    "        cur_vec.append(overlap(q1,q2))\n",
    "        cur_vec.extend(count_scores(q1,q2,model,cosine_dist))\n",
    "        # cur_vec.extend(count_scores(q1,q2,model_f,euclid))\n",
    "        cur_vec.extend(count_idf_scores(q1,q2))\n",
    "        cur_vec.append(len(tokenize_query(q1)))\n",
    "        cur_vec.append(len(tokenize_query(q1)))\n",
    "        vecs.append(cur_vec)\n",
    "    return vecs"
   ]
  },
  {
   "cell_type": "markdown",
   "metadata": {},
   "source": [
    "## 3. Бинарная классификация"
   ]
  },
  {
   "cell_type": "code",
   "execution_count": 207,
   "metadata": {},
   "outputs": [],
   "source": [
    "train = pd.read_csv(\"../../classification/train.tsv\", sep=\"\\t\")"
   ]
  },
  {
   "cell_type": "code",
   "execution_count": 208,
   "metadata": {},
   "outputs": [],
   "source": [
    "train = train.sample(frac=1)\n",
    "pairs = train[[\"prev_query\", \"query\"]].values.tolist()\n",
    "tags = [0 if i in [0,3] else i for i in train.tag]\n",
    "test = pd.read_csv(\"../../classification/test.tsv\", sep=\"\\t\")\n",
    "test_pairs = test[[\"prev_query\", \"query\"]].values.tolist()"
   ]
  },
  {
   "cell_type": "code",
   "execution_count": 209,
   "metadata": {},
   "outputs": [],
   "source": [
    "def binary_tag(x):\n",
    "    return 1 if x == 0 else 0\n",
    "\n",
    "train[\"new_binary_tag\"] = train[\"binary_tag\"].apply(binary_tag)\n",
    "test[\"new_binary_tag\"] = test[\"binary_tag\"].apply(binary_tag)"
   ]
  },
  {
   "cell_type": "code",
   "execution_count": 210,
   "metadata": {},
   "outputs": [
    {
     "data": {
      "application/vnd.jupyter.widget-view+json": {
       "model_id": "933389c833d646eba814b86fd414834c",
       "version_major": 2,
       "version_minor": 0
      },
      "text/plain": [
       "HBox(children=(IntProgress(value=0, max=8973), HTML(value='')))"
      ]
     },
     "metadata": {},
     "output_type": "display_data"
    },
    {
     "name": "stdout",
     "output_type": "stream",
     "text": [
      "\n"
     ]
    }
   ],
   "source": [
    "vecs = get_features(pairs)"
   ]
  },
  {
   "cell_type": "code",
   "execution_count": 234,
   "metadata": {},
   "outputs": [
    {
     "name": "stderr",
     "output_type": "stream",
     "text": [
      "[Parallel(n_jobs=1)]: Using backend SequentialBackend with 1 concurrent workers.\n",
      "[Parallel(n_jobs=1)]: Done 100 out of 100 | elapsed:    1.6s finished\n"
     ]
    },
    {
     "data": {
      "text/plain": [
       "RandomForestClassifier(bootstrap=True, class_weight={0: 0.7, 1: 0.3},\n",
       "            criterion='entropy', max_depth=20, max_features='auto',\n",
       "            max_leaf_nodes=None, min_impurity_decrease=0.0,\n",
       "            min_impurity_split=None, min_samples_leaf=1,\n",
       "            min_samples_split=2, min_weight_fraction_leaf=0.0,\n",
       "            n_estimators=100, n_jobs=None, oob_score=True,\n",
       "            random_state=None, verbose=1, warm_start=False)"
      ]
     },
     "execution_count": 234,
     "metadata": {},
     "output_type": "execute_result"
    }
   ],
   "source": [
    "from sklearn.ensemble import RandomForestClassifier\n",
    "\n",
    "clf = RandomForestClassifier(max_depth=20, \n",
    "                             n_estimators=100, \n",
    "                             class_weight={0:0.7, 1:0.3}, \n",
    "                             bootstrap=True, \n",
    "                             verbose=1, \n",
    "                             criterion=\"entropy\",\n",
    "                             oob_score=True\n",
    "                            )\n",
    "clf.fit(vecs, train.new_binary_tag)"
   ]
  },
  {
   "cell_type": "code",
   "execution_count": 229,
   "metadata": {},
   "outputs": [
    {
     "data": {
      "application/vnd.jupyter.widget-view+json": {
       "model_id": "290be4f841934e3c8c62f2f4f7dde023",
       "version_major": 2,
       "version_minor": 0
      },
      "text/plain": [
       "HBox(children=(IntProgress(value=0, max=675), HTML(value='')))"
      ]
     },
     "metadata": {},
     "output_type": "display_data"
    },
    {
     "name": "stdout",
     "output_type": "stream",
     "text": [
      "\n"
     ]
    }
   ],
   "source": [
    "test_vecs = get_features(test_pairs)"
   ]
  },
  {
   "cell_type": "code",
   "execution_count": 237,
   "metadata": {},
   "outputs": [
    {
     "name": "stderr",
     "output_type": "stream",
     "text": [
      "[Parallel(n_jobs=1)]: Using backend SequentialBackend with 1 concurrent workers.\n",
      "[Parallel(n_jobs=1)]: Done 100 out of 100 | elapsed:    0.0s finished\n"
     ]
    }
   ],
   "source": [
    "pred = clf.predict(test_vecs)"
   ]
  },
  {
   "cell_type": "code",
   "execution_count": 238,
   "metadata": {},
   "outputs": [
    {
     "name": "stdout",
     "output_type": "stream",
     "text": [
      "              precision    recall  f1-score   support\n",
      "\n",
      "           0       0.92      0.85      0.89       473\n",
      "           1       0.70      0.84      0.76       202\n",
      "\n",
      "   micro avg       0.85      0.85      0.85       675\n",
      "   macro avg       0.81      0.84      0.83       675\n",
      "weighted avg       0.86      0.85      0.85       675\n",
      "\n"
     ]
    }
   ],
   "source": [
    "print(classification_report(test.new_binary_tag, pred))"
   ]
  },
  {
   "cell_type": "code",
   "execution_count": 239,
   "metadata": {},
   "outputs": [
    {
     "data": {
      "image/png": "[encoded data removed]",
      "text/plain": [
       "<Figure size 360x360 with 1 Axes>"
      ]
     },
     "metadata": {},
     "output_type": "display_data"
    },
    {
     "name": "stdout",
     "output_type": "stream",
     "text": [
      "              precision    recall  f1-score   support\n",
      "\n",
      "           0       0.92      0.85      0.89       473\n",
      "           1       0.70      0.84      0.76       202\n",
      "\n",
      "   micro avg       0.85      0.85      0.85       675\n",
      "   macro avg       0.81      0.84      0.83       675\n",
      "weighted avg       0.86      0.85      0.85       675\n",
      "\n"
     ]
    }
   ],
   "source": [
    "# Confusion matrix\n",
    "from sklearn.metrics import confusion_matrix\n",
    "import matplotlib.pyplot as plt\n",
    "import seaborn as sns\n",
    "import numpy as np\n",
    "\n",
    "m = confusion_matrix(test.binary_tag, pred)\n",
    "\n",
    "labels = clf.classes_\n",
    "plt.figure(figsize = (5,5))\n",
    "sns.heatmap(data=m, annot=True, fmt=\"d\", cbar=False, xticklabels=labels, yticklabels=labels, cmap=\"PuRd\")\n",
    "plt.title(\"Confusion matrix\")\n",
    "plt.show()\n",
    "\n",
    "print(classification_report(test.new_binary_tag, pred))"
   ]
  },
  {
   "cell_type": "markdown",
   "metadata": {},
   "source": [
    "## 4. Трехклассовая классификация - голосование 3 моделей для каждого класса: один класс против всех"
   ]
  },
  {
   "cell_type": "code",
   "execution_count": 241,
   "metadata": {},
   "outputs": [],
   "source": [
    "# уберем примеры только с бинарной разметкой\n",
    "train = train[train[\"source\"]!='binary-tag-edit-dist']"
   ]
  },
  {
   "cell_type": "markdown",
   "metadata": {},
   "source": [
    "## 4.1 Предскажем класс 0"
   ]
  },
  {
   "cell_type": "code",
   "execution_count": 242,
   "metadata": {},
   "outputs": [],
   "source": [
    "train = train.sample(frac=1)\n",
    "pairs = train[[\"prev_query\", \"query\"]].values.tolist()\n",
    "tags = [0 if i in [0,3] else i for i in train.tag]\n",
    "test = pd.read_csv(\"../../classification/test.tsv\", sep=\"\\t\")\n",
    "test_pairs = test[[\"prev_query\", \"query\"]].values.tolist()"
   ]
  },
  {
   "cell_type": "code",
   "execution_count": 243,
   "metadata": {},
   "outputs": [],
   "source": [
    "def binary_tag(x):\n",
    "    return 1 if x == 0 else 0\n",
    "\n",
    "train[\"new_binary_tag\"] = train[\"binary_tag\"].apply(binary_tag)\n",
    "test[\"new_binary_tag\"] = test[\"binary_tag\"].apply(binary_tag)"
   ]
  },
  {
   "cell_type": "code",
   "execution_count": 245,
   "metadata": {},
   "outputs": [
    {
     "data": {
      "application/vnd.jupyter.widget-view+json": {
       "model_id": "5a7d6c2954dc42b8974a75c76b4206da",
       "version_major": 2,
       "version_minor": 0
      },
      "text/plain": [
       "HBox(children=(IntProgress(value=0, max=6273), HTML(value='')))"
      ]
     },
     "metadata": {},
     "output_type": "display_data"
    },
    {
     "name": "stdout",
     "output_type": "stream",
     "text": [
      "\n"
     ]
    }
   ],
   "source": [
    "vecs = get_features(pairs)"
   ]
  },
  {
   "cell_type": "code",
   "execution_count": 246,
   "metadata": {},
   "outputs": [
    {
     "data": {
      "application/vnd.jupyter.widget-view+json": {
       "model_id": "02a10c2ee96e49c19890fb6d6e8ad8c7",
       "version_major": 2,
       "version_minor": 0
      },
      "text/plain": [
       "HBox(children=(IntProgress(value=0, max=675), HTML(value='')))"
      ]
     },
     "metadata": {},
     "output_type": "display_data"
    },
    {
     "name": "stdout",
     "output_type": "stream",
     "text": [
      "\n"
     ]
    }
   ],
   "source": [
    "test_vecs = get_features(test_pairs)"
   ]
  },
  {
   "cell_type": "code",
   "execution_count": 248,
   "metadata": {},
   "outputs": [
    {
     "data": {
      "text/plain": [
       "binary_tag\n",
       "0    0.435996\n",
       "1    0.564004\n",
       "Name: tag, dtype: float64"
      ]
     },
     "execution_count": 248,
     "metadata": {},
     "output_type": "execute_result"
    }
   ],
   "source": [
    "train.groupby(\"binary_tag\").tag.count()/len(train)"
   ]
  },
  {
   "cell_type": "code",
   "execution_count": 249,
   "metadata": {},
   "outputs": [
    {
     "name": "stderr",
     "output_type": "stream",
     "text": [
      "[Parallel(n_jobs=1)]: Using backend SequentialBackend with 1 concurrent workers.\n",
      "[Parallel(n_jobs=1)]: Done 100 out of 100 | elapsed:    1.3s finished\n"
     ]
    },
    {
     "data": {
      "text/plain": [
       "RandomForestClassifier(bootstrap=True, class_weight={0: 0.43, 1: 0.56},\n",
       "            criterion='entropy', max_depth=20, max_features='auto',\n",
       "            max_leaf_nodes=None, min_impurity_decrease=0.0,\n",
       "            min_impurity_split=None, min_samples_leaf=1,\n",
       "            min_samples_split=2, min_weight_fraction_leaf=0.0,\n",
       "            n_estimators=100, n_jobs=None, oob_score=True, random_state=0,\n",
       "            verbose=1, warm_start=False)"
      ]
     },
     "execution_count": 249,
     "metadata": {},
     "output_type": "execute_result"
    }
   ],
   "source": [
    "from sklearn.ensemble import RandomForestClassifier\n",
    "clf = RandomForestClassifier(max_depth=20, \n",
    "                             n_estimators=100, \n",
    "                             class_weight={0:0.43, 1:0.56}, \n",
    "                             bootstrap=True, \n",
    "                             random_state=0, \n",
    "                             verbose=1, \n",
    "                             criterion=\"entropy\",\n",
    "                             oob_score=True\n",
    "                            )\n",
    "clf.fit(vecs, train.new_binary_tag)"
   ]
  },
  {
   "cell_type": "code",
   "execution_count": 250,
   "metadata": {},
   "outputs": [
    {
     "name": "stderr",
     "output_type": "stream",
     "text": [
      "[Parallel(n_jobs=1)]: Using backend SequentialBackend with 1 concurrent workers.\n",
      "[Parallel(n_jobs=1)]: Done 100 out of 100 | elapsed:    0.0s finished\n"
     ]
    }
   ],
   "source": [
    "binary_tag_proba = clf.predict_proba(test_vecs)"
   ]
  },
  {
   "cell_type": "code",
   "execution_count": 251,
   "metadata": {},
   "outputs": [
    {
     "name": "stderr",
     "output_type": "stream",
     "text": [
      "[Parallel(n_jobs=1)]: Using backend SequentialBackend with 1 concurrent workers.\n",
      "[Parallel(n_jobs=1)]: Done 100 out of 100 | elapsed:    0.0s finished\n"
     ]
    }
   ],
   "source": [
    "pred = clf.predict(test_vecs)"
   ]
  },
  {
   "cell_type": "code",
   "execution_count": 252,
   "metadata": {},
   "outputs": [
    {
     "name": "stdout",
     "output_type": "stream",
     "text": [
      "              precision    recall  f1-score   support\n",
      "\n",
      "           0       0.92      0.84      0.88       473\n",
      "           1       0.69      0.82      0.75       202\n",
      "\n",
      "   micro avg       0.84      0.84      0.84       675\n",
      "   macro avg       0.80      0.83      0.81       675\n",
      "weighted avg       0.85      0.84      0.84       675\n",
      "\n"
     ]
    }
   ],
   "source": [
    "print(classification_report(test.new_binary_tag, pred))"
   ]
  },
  {
   "cell_type": "markdown",
   "metadata": {},
   "source": [
    "## 4.2 Класс 0 уже предсказали, предскажем класс 2 (синоним)"
   ]
  },
  {
   "cell_type": "code",
   "execution_count": 253,
   "metadata": {},
   "outputs": [],
   "source": [
    "def synonym_tag(x):\n",
    "    return 1 if x == 2 else 0\n",
    "\n",
    "\n",
    "train[\"binary_synonym_tag\"] = train[\"tag\"].apply(synonym_tag)"
   ]
  },
  {
   "cell_type": "code",
   "execution_count": 254,
   "metadata": {},
   "outputs": [
    {
     "data": {
      "text/plain": [
       "binary_synonym_tag\n",
       "0    0.75004\n",
       "1    0.24996\n",
       "Name: tag, dtype: float64"
      ]
     },
     "execution_count": 254,
     "metadata": {},
     "output_type": "execute_result"
    }
   ],
   "source": [
    "train.groupby(\"binary_synonym_tag\").tag.count()/len(train)"
   ]
  },
  {
   "cell_type": "code",
   "execution_count": 255,
   "metadata": {},
   "outputs": [
    {
     "name": "stderr",
     "output_type": "stream",
     "text": [
      "[Parallel(n_jobs=1)]: Using backend SequentialBackend with 1 concurrent workers.\n",
      "[Parallel(n_jobs=1)]: Done 100 out of 100 | elapsed:    1.5s finished\n"
     ]
    },
    {
     "data": {
      "text/plain": [
       "RandomForestClassifier(bootstrap=True, class_weight={0: 0.75, 1: 0.25},\n",
       "            criterion='entropy', max_depth=100, max_features='auto',\n",
       "            max_leaf_nodes=None, min_impurity_decrease=0.0,\n",
       "            min_impurity_split=None, min_samples_leaf=1,\n",
       "            min_samples_split=2, min_weight_fraction_leaf=0.0,\n",
       "            n_estimators=100, n_jobs=None, oob_score=False, random_state=0,\n",
       "            verbose=1, warm_start=False)"
      ]
     },
     "execution_count": 255,
     "metadata": {},
     "output_type": "execute_result"
    }
   ],
   "source": [
    "clf = RandomForestClassifier(max_depth=100, \n",
    "                             n_estimators=100, \n",
    "                             bootstrap=True, \n",
    "                             verbose=1, \n",
    "                             criterion=\"entropy\",\n",
    "                             random_state=0,\n",
    "                             class_weight={0:0.75, 1:0.25},\n",
    "                            )\n",
    "clf.fit(vecs, train.binary_synonym_tag)"
   ]
  },
  {
   "cell_type": "code",
   "execution_count": 256,
   "metadata": {},
   "outputs": [
    {
     "name": "stdout",
     "output_type": "stream",
     "text": [
      "              precision    recall  f1-score   support\n",
      "\n",
      "           0       0.82      0.93      0.87       510\n",
      "           1       0.63      0.35      0.45       165\n",
      "\n",
      "   micro avg       0.79      0.79      0.79       675\n",
      "   macro avg       0.72      0.64      0.66       675\n",
      "weighted avg       0.77      0.79      0.77       675\n",
      "\n"
     ]
    },
    {
     "name": "stderr",
     "output_type": "stream",
     "text": [
      "[Parallel(n_jobs=1)]: Using backend SequentialBackend with 1 concurrent workers.\n",
      "[Parallel(n_jobs=1)]: Done 100 out of 100 | elapsed:    0.0s finished\n"
     ]
    }
   ],
   "source": [
    "test[\"binary_synonym_tag\"] = test[\"tag\"].apply(synonym_tag)\n",
    "pred = clf.predict(test_vecs)\n",
    "print(classification_report(test.binary_synonym_tag, pred))"
   ]
  },
  {
   "cell_type": "code",
   "execution_count": 257,
   "metadata": {},
   "outputs": [
    {
     "name": "stderr",
     "output_type": "stream",
     "text": [
      "[Parallel(n_jobs=1)]: Using backend SequentialBackend with 1 concurrent workers.\n",
      "[Parallel(n_jobs=1)]: Done 100 out of 100 | elapsed:    0.0s finished\n"
     ]
    }
   ],
   "source": [
    "synonym_class_proba = clf.predict_proba(test_vecs)"
   ]
  },
  {
   "cell_type": "markdown",
   "metadata": {},
   "source": [
    "## 4.2. Предскажем класс 1 (переформулировка)"
   ]
  },
  {
   "cell_type": "code",
   "execution_count": 258,
   "metadata": {},
   "outputs": [],
   "source": [
    "def ref_tag(x):\n",
    "    return 1 if x == 1 else 0\n",
    "\n",
    "\n",
    "train[\"binary_ref_tag\"] = train[\"tag\"].apply(ref_tag)\n",
    "test[\"binary_ref_tag\"] = test[\"tag\"].apply(ref_tag)"
   ]
  },
  {
   "cell_type": "code",
   "execution_count": 265,
   "metadata": {},
   "outputs": [
    {
     "name": "stderr",
     "output_type": "stream",
     "text": [
      "[Parallel(n_jobs=1)]: Using backend SequentialBackend with 1 concurrent workers.\n",
      "[Parallel(n_jobs=1)]: Done 100 out of 100 | elapsed:    1.4s finished\n"
     ]
    },
    {
     "data": {
      "text/plain": [
       "RandomForestClassifier(bootstrap=True, class_weight=None, criterion='entropy',\n",
       "            max_depth=20, max_features='auto', max_leaf_nodes=None,\n",
       "            min_impurity_decrease=0.0, min_impurity_split=None,\n",
       "            min_samples_leaf=1, min_samples_split=2,\n",
       "            min_weight_fraction_leaf=0.0, n_estimators=100, n_jobs=None,\n",
       "            oob_score=True, random_state=0, verbose=1, warm_start=False)"
      ]
     },
     "execution_count": 265,
     "metadata": {},
     "output_type": "execute_result"
    }
   ],
   "source": [
    "clf = RandomForestClassifier(max_depth=20, \n",
    "                             n_estimators=100, \n",
    "                             bootstrap=True, \n",
    "                             random_state=0, \n",
    "                             verbose=1, \n",
    "                             criterion=\"entropy\",\n",
    "                             oob_score=True\n",
    "                            )\n",
    "clf.fit(vecs, train.binary_ref_tag)"
   ]
  },
  {
   "cell_type": "code",
   "execution_count": 266,
   "metadata": {},
   "outputs": [
    {
     "name": "stdout",
     "output_type": "stream",
     "text": [
      "              precision    recall  f1-score   support\n",
      "\n",
      "           0       0.72      0.86      0.78       367\n",
      "           1       0.78      0.59      0.67       308\n",
      "\n",
      "   micro avg       0.74      0.74      0.74       675\n",
      "   macro avg       0.75      0.73      0.73       675\n",
      "weighted avg       0.75      0.74      0.73       675\n",
      "\n"
     ]
    },
    {
     "name": "stderr",
     "output_type": "stream",
     "text": [
      "[Parallel(n_jobs=1)]: Using backend SequentialBackend with 1 concurrent workers.\n",
      "[Parallel(n_jobs=1)]: Done 100 out of 100 | elapsed:    0.0s finished\n"
     ]
    }
   ],
   "source": [
    "pred = clf.predict(test_vecs)\n",
    "print(classification_report(test.binary_ref_tag, pred))"
   ]
  },
  {
   "cell_type": "code",
   "execution_count": 267,
   "metadata": {},
   "outputs": [
    {
     "name": "stderr",
     "output_type": "stream",
     "text": [
      "[Parallel(n_jobs=1)]: Using backend SequentialBackend with 1 concurrent workers.\n",
      "[Parallel(n_jobs=1)]: Done 100 out of 100 | elapsed:    0.0s finished\n"
     ]
    }
   ],
   "source": [
    "ref_class_proba = clf.predict_proba(test_vecs)"
   ]
  },
  {
   "cell_type": "markdown",
   "metadata": {},
   "source": [
    "## Голосование моделей"
   ]
  },
  {
   "cell_type": "code",
   "execution_count": 268,
   "metadata": {},
   "outputs": [],
   "source": [
    "# индекс = 0 -> разный интент - 3\n",
    "# индекс = 1 -> переформулировка - 1\n",
    "# индекс = 2 -> синоним - 2\n",
    "\n",
    "\n",
    "test_3_class_preds = []\n",
    "for i in range(len(test)):\n",
    "    probs = [binary_tag_proba[i][1], ref_class_proba[i][1], synonym_class_proba[i][1]]\n",
    "    max_prob = max(probs)\n",
    "    idx = probs.index(max_prob)\n",
    "    if idx == 0:\n",
    "        test_3_class_preds.append(3)\n",
    "    if idx == 1:\n",
    "        test_3_class_preds.append(1)   \n",
    "    if idx == 2:\n",
    "        test_3_class_preds.append(2)   "
   ]
  },
  {
   "cell_type": "code",
   "execution_count": 269,
   "metadata": {},
   "outputs": [],
   "source": [
    "test[\"3_class_preds\"] = test_3_class_preds"
   ]
  },
  {
   "cell_type": "code",
   "execution_count": 271,
   "metadata": {},
   "outputs": [
    {
     "data": {
      "image/png": "[encoded data removed]",
      "text/plain": [
       "<Figure size 432x432 with 1 Axes>"
      ]
     },
     "metadata": {},
     "output_type": "display_data"
    },
    {
     "name": "stdout",
     "output_type": "stream",
     "text": [
      "              precision    recall  f1-score   support\n",
      "\n",
      "           1       0.75      0.66      0.70       308\n",
      "           2       0.55      0.43      0.48       165\n",
      "           3       0.64      0.87      0.74       202\n",
      "\n",
      "   micro avg       0.67      0.67      0.67       675\n",
      "   macro avg       0.65      0.65      0.64       675\n",
      "weighted avg       0.67      0.67      0.66       675\n",
      "\n"
     ]
    }
   ],
   "source": [
    "from sklearn.metrics import confusion_matrix\n",
    "import matplotlib.pyplot as plt\n",
    "import seaborn as sns\n",
    "import numpy as np\n",
    "\n",
    "m = confusion_matrix(test.tag, test[\"3_class_preds\"])\n",
    "sns.set(font_scale=1.2)\n",
    "plt.figure(figsize = (6,6))\n",
    "sns.heatmap(data=m, annot=True, fmt=\"d\", cbar=False, \n",
    "            xticklabels=[0, 2, 1], \n",
    "            yticklabels=[0, 2, 1], \n",
    "            cmap=\"PuRd\",\n",
    "           annot_kws={\"size\": 15})\n",
    "plt.title(\"Матрица ошибок: Random Forest\", fontsize=15)\n",
    "plt.show()\n",
    "\n",
    "print(classification_report(test.tag, test[\"3_class_preds\"]))"
   ]
  },
  {
   "cell_type": "code",
   "execution_count": null,
   "metadata": {},
   "outputs": [],
   "source": []
  }
 ],
 "metadata": {
  "kernelspec": {
   "display_name": "Python 3",
   "language": "python",
   "name": "python3"
  },
  "language_info": {
   "codemirror_mode": {
    "name": "ipython",
    "version": 3
   },
   "file_extension": ".py",
   "mimetype": "text/x-python",
   "name": "python",
   "nbconvert_exporter": "python",
   "pygments_lexer": "ipython3",
   "version": "3.7.6"
  }
 },
 "nbformat": 4,
 "nbformat_minor": 4
}
