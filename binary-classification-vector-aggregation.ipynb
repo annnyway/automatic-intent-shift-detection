{
 "cells": [
  {
   "cell_type": "code",
   "execution_count": 6,
   "metadata": {},
   "outputs": [],
   "source": [
    "import fasttext\n",
    "import pandas as pd\n",
    "from tqdm.auto import tqdm\n",
    "import joblib\n",
    "import scipy\n",
    "import numpy as np\n",
    "from sklearn.metrics import classification_report\n",
    "from razdel import tokenize\n",
    "\n",
    "from string import punctuation\n",
    "punct = punctuation+'«»—…“”*–'"
   ]
  },
  {
   "cell_type": "markdown",
   "metadata": {},
   "source": [
    "## Загружаем модель"
   ]
  },
  {
   "cell_type": "code",
   "execution_count": 9,
   "metadata": {
    "scrolled": true
   },
   "outputs": [
    {
     "name": "stderr",
     "output_type": "stream",
     "text": [
      "\n"
     ]
    }
   ],
   "source": [
    "model_f = fasttext.load_model(\"../model-20-min-freq-3.bin\")"
   ]
  },
  {
   "cell_type": "code",
   "execution_count": 10,
   "metadata": {
    "scrolled": false
   },
   "outputs": [
    {
     "data": {
      "text/plain": [
       "array([-5.9325463e-01,  2.4429931e-01,  3.2640547e-01,  1.0844889e-01,\n",
       "       -3.2271585e-01,  5.3177649e-01, -2.6891569e-02, -2.8868619e-01,\n",
       "        1.0027807e+00, -2.0299125e-01,  1.9064834e-04, -6.4409119e-01,\n",
       "       -5.4105371e-01, -2.5627661e-01,  4.6106376e-02, -6.5823066e-01,\n",
       "        3.0189078e-02,  2.8437024e-01, -3.3804491e-01, -2.1494141e-01,\n",
       "       -5.9019145e-02,  2.3765634e-01,  3.4469384e-01, -8.3294794e-02,\n",
       "       -1.6686738e-01, -3.6758831e-01, -1.5896413e-01,  4.8742437e-01,\n",
       "        2.1384589e-01, -5.2032709e-01,  9.7225420e-02,  3.1522584e-01,\n",
       "        4.3548375e-02, -2.5610849e-01, -5.8411008e-01, -8.2148217e-02,\n",
       "       -4.4109982e-01,  6.9937551e-01, -2.2712652e-01, -9.2215419e-02,\n",
       "        6.3698769e-02, -2.4544959e-01,  2.3396060e-01,  1.5268685e-01,\n",
       "        2.9772466e-01,  2.3924631e-01,  4.0799943e-01,  6.6718645e-02,\n",
       "        4.3528631e-01,  5.4900938e-01, -5.3673297e-01,  2.2726862e-01,\n",
       "       -6.7768580e-01,  2.2655195e-01, -1.0972178e-01,  2.0957486e-01,\n",
       "        4.7210577e-01,  1.6881572e-02, -1.5023303e-01,  4.3939444e-01,\n",
       "       -3.6004451e-01, -1.6341695e-01, -1.1096182e+00, -3.1571716e-01,\n",
       "        1.9693863e-01, -2.9471740e-01,  1.1207419e-01,  7.7928925e-01,\n",
       "       -1.3092232e-01, -6.8731612e-01, -1.5758446e-01,  7.7708259e-02,\n",
       "       -6.7086697e-02, -1.7613962e-01, -1.8711500e-01, -6.5917033e-01,\n",
       "       -2.5757486e-01,  1.8154825e-01, -4.6892980e-01,  2.7367502e-01,\n",
       "       -3.2935542e-01, -2.5841847e-01,  2.2593658e-01,  9.8510683e-02,\n",
       "       -1.3851430e-01,  6.8738407e-01, -3.4761092e-01,  4.0540889e-01,\n",
       "        1.8988085e-01, -4.9548370e-01, -2.2498107e-01,  2.1525837e-01,\n",
       "        4.2192283e-01,  3.1339213e-01, -3.9756615e-03, -4.2620307e-01,\n",
       "        4.7267538e-02, -6.9712237e-02, -3.6047578e-02,  2.9423186e-01,\n",
       "       -2.8107467e-01,  1.2995720e-01,  2.6465091e-01,  2.2842674e-01,\n",
       "       -1.9233694e-02, -3.4158260e-01, -1.7712203e-01, -2.1913804e-01,\n",
       "       -5.3890932e-01, -2.1234140e-01, -1.2736189e-01, -2.7522659e-01,\n",
       "       -1.0674969e-01,  7.6060283e-01, -1.3410676e-01,  3.7837204e-01,\n",
       "       -1.6734393e-01, -6.5683877e-01, -1.2977536e-01, -3.3737102e-01,\n",
       "        1.6460429e-01,  7.2942853e-02, -2.4064180e-01, -1.0947779e-02,\n",
       "       -3.6552101e-01, -1.8621230e-01, -8.7733328e-02, -6.3287085e-01,\n",
       "        3.0403867e-01,  2.2419381e-01, -2.0323402e-01,  1.0495321e+00,\n",
       "       -7.9292762e-01, -5.5578065e-01, -4.4984102e-01,  1.2527580e-02,\n",
       "        5.7765973e-01, -1.3663836e-01,  4.0850914e-01,  3.8723618e-01,\n",
       "       -8.2463878e-01, -1.8124342e-01, -4.3411422e-01, -1.0259046e-01,\n",
       "       -2.5459367e-01, -4.5468363e-01,  4.0822351e-01, -7.4114764e-01,\n",
       "        4.3255696e-01, -1.1131887e-01,  3.5994330e-01,  2.1167603e-01,\n",
       "       -1.2256066e+00, -3.1593898e-01, -1.8928604e-01,  5.0520355e-01,\n",
       "       -1.1402613e+00,  3.2388550e-01, -4.1748804e-01,  3.0421224e-01,\n",
       "       -6.0322583e-01, -5.3106528e-02,  1.9530472e-01, -5.7344955e-01,\n",
       "        2.6268005e-01,  2.2720276e-01,  4.9516094e-01,  1.5735950e-01,\n",
       "       -6.7039335e-01, -1.6303551e-01,  1.1664288e+00, -7.4724466e-01,\n",
       "       -8.7889373e-01, -3.2201380e-01, -2.3616633e-01, -9.7072370e-02,\n",
       "       -2.6386824e-01, -4.5670308e-02, -4.6647695e-01,  3.2164496e-01,\n",
       "        5.0952470e-01, -5.1589322e-01, -3.6912581e-01, -1.1476346e+00,\n",
       "       -5.8765024e-01,  4.3892417e-02, -3.5754610e-02,  4.4622171e-01,\n",
       "       -1.4391123e-01,  4.2375836e-01,  6.1726920e-02,  7.6999110e-01,\n",
       "        1.1225528e+00, -3.1986964e-01,  9.6951000e-02, -7.8743708e-01,\n",
       "       -8.2671605e-02, -2.8130710e-01, -2.7425256e-01, -6.4946443e-01],\n",
       "      dtype=float32)"
      ]
     },
     "execution_count": 10,
     "metadata": {},
     "output_type": "execute_result"
    }
   ],
   "source": [
    "model_f.get_word_vector(\"samsung\")"
   ]
  },
  {
   "cell_type": "markdown",
   "metadata": {},
   "source": [
    "# Заранее соберем эмбеддинги слов тестовой выборки"
   ]
  },
  {
   "cell_type": "code",
   "execution_count": 11,
   "metadata": {},
   "outputs": [],
   "source": [
    "df = pd.read_csv(\"../../classification/test.tsv\", sep=\"\\t\")"
   ]
  },
  {
   "cell_type": "code",
   "execution_count": 12,
   "metadata": {
    "scrolled": true
   },
   "outputs": [
    {
     "data": {
      "text/html": [
       "<div>\n",
       "<style scoped>\n",
       "    .dataframe tbody tr th:only-of-type {\n",
       "        vertical-align: middle;\n",
       "    }\n",
       "\n",
       "    .dataframe tbody tr th {\n",
       "        vertical-align: top;\n",
       "    }\n",
       "\n",
       "    .dataframe thead th {\n",
       "        text-align: right;\n",
       "    }\n",
       "</style>\n",
       "<table border=\"1\" class=\"dataframe\">\n",
       "  <thead>\n",
       "    <tr style=\"text-align: right;\">\n",
       "      <th></th>\n",
       "      <th>query</th>\n",
       "      <th>pair_id</th>\n",
       "      <th>prev_query</th>\n",
       "      <th>tag</th>\n",
       "      <th>binary_tag</th>\n",
       "    </tr>\n",
       "  </thead>\n",
       "  <tbody>\n",
       "    <tr>\n",
       "      <th>0</th>\n",
       "      <td>iphone 7</td>\n",
       "      <td>0</td>\n",
       "      <td>iphone 8</td>\n",
       "      <td>2</td>\n",
       "      <td>1</td>\n",
       "    </tr>\n",
       "    <tr>\n",
       "      <th>1</th>\n",
       "      <td>iphone 8 plus</td>\n",
       "      <td>1</td>\n",
       "      <td>iphone 7 plus</td>\n",
       "      <td>2</td>\n",
       "      <td>1</td>\n",
       "    </tr>\n",
       "    <tr>\n",
       "      <th>2</th>\n",
       "      <td>детская кроватка</td>\n",
       "      <td>2</td>\n",
       "      <td>детская кровать</td>\n",
       "      <td>1</td>\n",
       "      <td>1</td>\n",
       "    </tr>\n",
       "    <tr>\n",
       "      <th>3</th>\n",
       "      <td>iphone 8</td>\n",
       "      <td>3</td>\n",
       "      <td>айфон 8</td>\n",
       "      <td>1</td>\n",
       "      <td>1</td>\n",
       "    </tr>\n",
       "    <tr>\n",
       "      <th>4</th>\n",
       "      <td>запрет на рег действия</td>\n",
       "      <td>4</td>\n",
       "      <td>запрет на регистрационные действия</td>\n",
       "      <td>1</td>\n",
       "      <td>1</td>\n",
       "    </tr>\n",
       "  </tbody>\n",
       "</table>\n",
       "</div>"
      ],
      "text/plain": [
       "                    query  pair_id                          prev_query  tag  \\\n",
       "0                iphone 7        0                            iphone 8    2   \n",
       "1           iphone 8 plus        1                       iphone 7 plus    2   \n",
       "2        детская кроватка        2                     детская кровать    1   \n",
       "3                iphone 8        3                             айфон 8    1   \n",
       "4  запрет на рег действия        4  запрет на регистрационные действия    1   \n",
       "\n",
       "   binary_tag  \n",
       "0           1  \n",
       "1           1  \n",
       "2           1  \n",
       "3           1  \n",
       "4           1  "
      ]
     },
     "execution_count": 12,
     "metadata": {},
     "output_type": "execute_result"
    }
   ],
   "source": [
    "df.head()"
   ]
  },
  {
   "cell_type": "code",
   "execution_count": 13,
   "metadata": {},
   "outputs": [],
   "source": [
    "def tokenize_query(query):\n",
    "    line = query.strip()\n",
    "    tokens = list(tokenize(line))\n",
    "    tokens = [_.text.lower() for _ in tokens]         \n",
    "    tokens = [i for i in tokens if i not in punct]\n",
    "    return tokens"
   ]
  },
  {
   "cell_type": "code",
   "execution_count": 14,
   "metadata": {},
   "outputs": [],
   "source": [
    "queries = df[[\"prev_query\", \"query\"]].values.tolist()"
   ]
  },
  {
   "cell_type": "code",
   "execution_count": 15,
   "metadata": {},
   "outputs": [],
   "source": [
    "tokens = []\n",
    "for i in queries:\n",
    "    tokens += tokenize_query(i[0])\n",
    "    tokens += tokenize_query(i[1])"
   ]
  },
  {
   "cell_type": "code",
   "execution_count": 16,
   "metadata": {},
   "outputs": [
    {
     "data": {
      "application/vnd.jupyter.widget-view+json": {
       "model_id": "7edc256258c5416d949cef223965f9a7",
       "version_major": 2,
       "version_minor": 0
      },
      "text/plain": [
       "HBox(children=(IntProgress(value=0, max=3223), HTML(value='')))"
      ]
     },
     "metadata": {},
     "output_type": "display_data"
    },
    {
     "name": "stdout",
     "output_type": "stream",
     "text": [
      "\n"
     ]
    }
   ],
   "source": [
    "tok2vec = {}\n",
    "for i in tqdm(tokens):\n",
    "    tok2vec[i] = model_f.get_word_vector(i)"
   ]
  },
  {
   "cell_type": "code",
   "execution_count": 17,
   "metadata": {},
   "outputs": [
    {
     "data": {
      "text/plain": [
       "1883"
      ]
     },
     "execution_count": 17,
     "metadata": {},
     "output_type": "execute_result"
    }
   ],
   "source": [
    "len(tok2vec)"
   ]
  },
  {
   "cell_type": "markdown",
   "metadata": {},
   "source": [
    "## Обозначим функцию косинусной близости"
   ]
  },
  {
   "cell_type": "code",
   "execution_count": 18,
   "metadata": {},
   "outputs": [],
   "source": [
    "def similarity(vec1, vec2):\n",
    "    return 1 - scipy.spatial.distance.cosine(vec1, vec2)"
   ]
  },
  {
   "cell_type": "code",
   "execution_count": 19,
   "metadata": {},
   "outputs": [
    {
     "data": {
      "text/plain": [
       "0.8306529521942139"
      ]
     },
     "execution_count": 19,
     "metadata": {},
     "output_type": "execute_result"
    }
   ],
   "source": [
    "similarity(model_f.get_sentence_vector(\"холодильник в аристон\"), model_f.get_sentence_vector(\"холодильник indesit\"))"
   ]
  },
  {
   "cell_type": "code",
   "execution_count": 20,
   "metadata": {},
   "outputs": [
    {
     "data": {
      "text/plain": [
       "0.5587334036827087"
      ]
     },
     "execution_count": 20,
     "metadata": {},
     "output_type": "execute_result"
    }
   ],
   "source": [
    "similarity(model_f.get_sentence_vector(\"подольск\"), model_f.get_sentence_vector(\"щёлково город\"))"
   ]
  },
  {
   "cell_type": "markdown",
   "metadata": {},
   "source": [
    "## Тестируем модель 1: косинусная близость между векторами, аггрегированными fastText (среднее по векторам слов с регуляризацией)"
   ]
  },
  {
   "cell_type": "code",
   "execution_count": 21,
   "metadata": {},
   "outputs": [
    {
     "data": {
      "application/vnd.jupyter.widget-view+json": {
       "model_id": "21768e476f6d46a188c317106e43d9ca",
       "version_major": 2,
       "version_minor": 0
      },
      "text/plain": [
       "HBox(children=(IntProgress(value=0, max=675), HTML(value='')))"
      ]
     },
     "metadata": {},
     "output_type": "display_data"
    },
    {
     "name": "stdout",
     "output_type": "stream",
     "text": [
      "\n"
     ]
    }
   ],
   "source": [
    "similarities = []\n",
    "for q1, q2 in tqdm(queries):\n",
    "    similarities.append(similarity(model_f.get_sentence_vector(q1), model_f.get_sentence_vector(q2)))"
   ]
  },
  {
   "cell_type": "code",
   "execution_count": 22,
   "metadata": {},
   "outputs": [
    {
     "data": {
      "text/plain": [
       "[0.5930640697479248,\n",
       " 0.552237868309021,\n",
       " 0.23370395600795746,\n",
       " 0.46538081765174866,\n",
       " 0.6069199442863464,\n",
       " 0.16137760877609253,\n",
       " 0.3445148468017578,\n",
       " 0.7143924832344055,\n",
       " 0.4846670627593994,\n",
       " 0.31329649686813354,\n",
       " 0.5587334036827087,\n",
       " 0.7715017199516296,\n",
       " 0.6263378858566284,\n",
       " 0.3161330223083496,\n",
       " 0.321907103061676]"
      ]
     },
     "execution_count": 22,
     "metadata": {},
     "output_type": "execute_result"
    }
   ],
   "source": [
    "similarities[-15:]"
   ]
  },
  {
   "cell_type": "code",
   "execution_count": 24,
   "metadata": {},
   "outputs": [],
   "source": [
    "df[\"fasttext_20_3_cos\"] = similarities"
   ]
  },
  {
   "cell_type": "code",
   "execution_count": 25,
   "metadata": {},
   "outputs": [
    {
     "data": {
      "text/html": [
       "<div>\n",
       "<style scoped>\n",
       "    .dataframe tbody tr th:only-of-type {\n",
       "        vertical-align: middle;\n",
       "    }\n",
       "\n",
       "    .dataframe tbody tr th {\n",
       "        vertical-align: top;\n",
       "    }\n",
       "\n",
       "    .dataframe thead th {\n",
       "        text-align: right;\n",
       "    }\n",
       "</style>\n",
       "<table border=\"1\" class=\"dataframe\">\n",
       "  <thead>\n",
       "    <tr style=\"text-align: right;\">\n",
       "      <th></th>\n",
       "      <th>query</th>\n",
       "      <th>pair_id</th>\n",
       "      <th>prev_query</th>\n",
       "      <th>tag</th>\n",
       "      <th>binary_tag</th>\n",
       "      <th>fasttext_20_3_cos</th>\n",
       "    </tr>\n",
       "  </thead>\n",
       "  <tbody>\n",
       "    <tr>\n",
       "      <th>0</th>\n",
       "      <td>iphone 7</td>\n",
       "      <td>0</td>\n",
       "      <td>iphone 8</td>\n",
       "      <td>2</td>\n",
       "      <td>1</td>\n",
       "      <td>0.895499</td>\n",
       "    </tr>\n",
       "    <tr>\n",
       "      <th>1</th>\n",
       "      <td>iphone 8 plus</td>\n",
       "      <td>1</td>\n",
       "      <td>iphone 7 plus</td>\n",
       "      <td>2</td>\n",
       "      <td>1</td>\n",
       "      <td>0.950530</td>\n",
       "    </tr>\n",
       "    <tr>\n",
       "      <th>2</th>\n",
       "      <td>детская кроватка</td>\n",
       "      <td>2</td>\n",
       "      <td>детская кровать</td>\n",
       "      <td>1</td>\n",
       "      <td>1</td>\n",
       "      <td>0.926208</td>\n",
       "    </tr>\n",
       "    <tr>\n",
       "      <th>3</th>\n",
       "      <td>iphone 8</td>\n",
       "      <td>3</td>\n",
       "      <td>айфон 8</td>\n",
       "      <td>1</td>\n",
       "      <td>1</td>\n",
       "      <td>0.959601</td>\n",
       "    </tr>\n",
       "    <tr>\n",
       "      <th>4</th>\n",
       "      <td>запрет на рег действия</td>\n",
       "      <td>4</td>\n",
       "      <td>запрет на регистрационные действия</td>\n",
       "      <td>1</td>\n",
       "      <td>1</td>\n",
       "      <td>0.923356</td>\n",
       "    </tr>\n",
       "  </tbody>\n",
       "</table>\n",
       "</div>"
      ],
      "text/plain": [
       "                    query  pair_id                          prev_query  tag  \\\n",
       "0                iphone 7        0                            iphone 8    2   \n",
       "1           iphone 8 plus        1                       iphone 7 plus    2   \n",
       "2        детская кроватка        2                     детская кровать    1   \n",
       "3                iphone 8        3                             айфон 8    1   \n",
       "4  запрет на рег действия        4  запрет на регистрационные действия    1   \n",
       "\n",
       "   binary_tag  fasttext_20_3_cos  \n",
       "0           1           0.895499  \n",
       "1           1           0.950530  \n",
       "2           1           0.926208  \n",
       "3           1           0.959601  \n",
       "4           1           0.923356  "
      ]
     },
     "execution_count": 25,
     "metadata": {},
     "output_type": "execute_result"
    }
   ],
   "source": [
    "df.head()"
   ]
  },
  {
   "cell_type": "code",
   "execution_count": 29,
   "metadata": {},
   "outputs": [],
   "source": [
    "# сделаем разметку по заранее подобранному порогу 0.4\n",
    "tag_1_indexes = df[df.fasttext_20_3_cos >= float(0.4)].index.tolist()\n",
    "tags = []\n",
    "for i in df.index:\n",
    "    if i in tag_1_indexes:\n",
    "        tags.append(1)\n",
    "    else:\n",
    "        tags.append(0) "
   ]
  },
  {
   "cell_type": "code",
   "execution_count": 30,
   "metadata": {},
   "outputs": [
    {
     "data": {
      "text/html": [
       "<div>\n",
       "<style scoped>\n",
       "    .dataframe tbody tr th:only-of-type {\n",
       "        vertical-align: middle;\n",
       "    }\n",
       "\n",
       "    .dataframe tbody tr th {\n",
       "        vertical-align: top;\n",
       "    }\n",
       "\n",
       "    .dataframe thead th {\n",
       "        text-align: right;\n",
       "    }\n",
       "</style>\n",
       "<table border=\"1\" class=\"dataframe\">\n",
       "  <thead>\n",
       "    <tr style=\"text-align: right;\">\n",
       "      <th></th>\n",
       "      <th>query</th>\n",
       "      <th>pair_id</th>\n",
       "      <th>prev_query</th>\n",
       "      <th>tag</th>\n",
       "      <th>binary_tag</th>\n",
       "      <th>fasttext_20_3_cos</th>\n",
       "      <th>fasttext_3_tag</th>\n",
       "    </tr>\n",
       "  </thead>\n",
       "  <tbody>\n",
       "    <tr>\n",
       "      <th>0</th>\n",
       "      <td>iphone 7</td>\n",
       "      <td>0</td>\n",
       "      <td>iphone 8</td>\n",
       "      <td>2</td>\n",
       "      <td>1</td>\n",
       "      <td>0.895499</td>\n",
       "      <td>1</td>\n",
       "    </tr>\n",
       "    <tr>\n",
       "      <th>1</th>\n",
       "      <td>iphone 8 plus</td>\n",
       "      <td>1</td>\n",
       "      <td>iphone 7 plus</td>\n",
       "      <td>2</td>\n",
       "      <td>1</td>\n",
       "      <td>0.950530</td>\n",
       "      <td>1</td>\n",
       "    </tr>\n",
       "    <tr>\n",
       "      <th>2</th>\n",
       "      <td>детская кроватка</td>\n",
       "      <td>2</td>\n",
       "      <td>детская кровать</td>\n",
       "      <td>1</td>\n",
       "      <td>1</td>\n",
       "      <td>0.926208</td>\n",
       "      <td>1</td>\n",
       "    </tr>\n",
       "    <tr>\n",
       "      <th>3</th>\n",
       "      <td>iphone 8</td>\n",
       "      <td>3</td>\n",
       "      <td>айфон 8</td>\n",
       "      <td>1</td>\n",
       "      <td>1</td>\n",
       "      <td>0.959601</td>\n",
       "      <td>1</td>\n",
       "    </tr>\n",
       "    <tr>\n",
       "      <th>4</th>\n",
       "      <td>запрет на рег действия</td>\n",
       "      <td>4</td>\n",
       "      <td>запрет на регистрационные действия</td>\n",
       "      <td>1</td>\n",
       "      <td>1</td>\n",
       "      <td>0.923356</td>\n",
       "      <td>1</td>\n",
       "    </tr>\n",
       "  </tbody>\n",
       "</table>\n",
       "</div>"
      ],
      "text/plain": [
       "                    query  pair_id                          prev_query  tag  \\\n",
       "0                iphone 7        0                            iphone 8    2   \n",
       "1           iphone 8 plus        1                       iphone 7 plus    2   \n",
       "2        детская кроватка        2                     детская кровать    1   \n",
       "3                iphone 8        3                             айфон 8    1   \n",
       "4  запрет на рег действия        4  запрет на регистрационные действия    1   \n",
       "\n",
       "   binary_tag  fasttext_20_3_cos  fasttext_3_tag  \n",
       "0           1           0.895499               1  \n",
       "1           1           0.950530               1  \n",
       "2           1           0.926208               1  \n",
       "3           1           0.959601               1  \n",
       "4           1           0.923356               1  "
      ]
     },
     "execution_count": 30,
     "metadata": {},
     "output_type": "execute_result"
    }
   ],
   "source": [
    "df[\"fasttext_3_tag\"] = tags\n",
    "df.head()"
   ]
  },
  {
   "cell_type": "code",
   "execution_count": 32,
   "metadata": {},
   "outputs": [
    {
     "name": "stdout",
     "output_type": "stream",
     "text": [
      "              precision    recall  f1-score   support\n",
      "\n",
      "           0       0.70      0.73      0.71       202\n",
      "           1       0.88      0.86      0.87       473\n",
      "\n",
      "   micro avg       0.82      0.82      0.82       675\n",
      "   macro avg       0.79      0.80      0.79       675\n",
      "weighted avg       0.83      0.82      0.82       675\n",
      "\n"
     ]
    }
   ],
   "source": [
    "print(classification_report(df.binary_tag, df.fasttext_3_tag))"
   ]
  },
  {
   "cell_type": "code",
   "execution_count": 33,
   "metadata": {},
   "outputs": [
    {
     "data": {
      "image/png": "[encoded data removed]",
      "text/plain": [
       "<Figure size 432x432 with 1 Axes>"
      ]
     },
     "metadata": {},
     "output_type": "display_data"
    },
    {
     "name": "stdout",
     "output_type": "stream",
     "text": [
      "              precision    recall  f1-score   support\n",
      "\n",
      "           0       0.70      0.73      0.71       202\n",
      "           1       0.88      0.86      0.87       473\n",
      "\n",
      "   micro avg       0.82      0.82      0.82       675\n",
      "   macro avg       0.79      0.80      0.79       675\n",
      "weighted avg       0.83      0.82      0.82       675\n",
      "\n"
     ]
    }
   ],
   "source": [
    "from sklearn.metrics import confusion_matrix\n",
    "import matplotlib.pyplot as plt\n",
    "import seaborn as sns\n",
    "import numpy as np\n",
    "\n",
    "m = confusion_matrix(df.binary_tag, df.fasttext_3_tag)\n",
    "sns.set(font_scale=1.2)\n",
    "plt.figure(figsize = (6,6))\n",
    "sns.heatmap(data=m, annot=True, fmt=\"d\", cbar=False, \n",
    "            xticklabels=[\"разный интент\", \"одинаковый интент\"], \n",
    "            yticklabels=[\"разный интент\", \"одинаковый интент\"], \n",
    "            cmap=\"PuRd\",\n",
    "           annot_kws={\"size\": 15})\n",
    "plt.title(\"Матрица ошибок: Average + L2 + Cosine\", fontsize=15)\n",
    "plt.show()\n",
    "\n",
    "print(classification_report(df.binary_tag, df.fasttext_3_tag))"
   ]
  },
  {
   "cell_type": "markdown",
   "metadata": {},
   "source": [
    "## Тестируем модель 2: Max-pooling + Cosine"
   ]
  },
  {
   "cell_type": "code",
   "execution_count": 53,
   "metadata": {},
   "outputs": [],
   "source": [
    "import numpy as np\n",
    "import skimage.measure\n",
    "\n",
    "def max_pooling(word_vecs:list):\n",
    "    matrix = np.array(word_vecs)\n",
    "    pooled_vec = skimage.measure.block_reduce(matrix, (len(word_vecs),1), np.max)\n",
    "    return pooled_vec[0]"
   ]
  },
  {
   "cell_type": "code",
   "execution_count": 54,
   "metadata": {},
   "outputs": [
    {
     "data": {
      "text/plain": [
       "True"
      ]
     },
     "execution_count": 54,
     "metadata": {},
     "output_type": "execute_result"
    }
   ],
   "source": [
    "len(queries) == len(df)"
   ]
  },
  {
   "cell_type": "code",
   "execution_count": 55,
   "metadata": {},
   "outputs": [],
   "source": [
    "max_pooling_cosines = []\n",
    "\n",
    "for q1, q2 in queries:\n",
    "    vec1 = []\n",
    "    vec2 = []\n",
    "    for word in tokenize_query(q1):\n",
    "        vec1.append(tok2vec[word])\n",
    "    for word in tokenize_query(q2):\n",
    "        vec2.append(tok2vec[word])\n",
    "    vec1 = max_pooling(vec1)\n",
    "    vec2 = max_pooling(vec2)\n",
    "    max_pooling_cosines.append(similarity(vec1, vec2))"
   ]
  },
  {
   "cell_type": "code",
   "execution_count": 56,
   "metadata": {},
   "outputs": [
    {
     "data": {
      "text/plain": [
       "True"
      ]
     },
     "execution_count": 56,
     "metadata": {},
     "output_type": "execute_result"
    }
   ],
   "source": [
    "len(max_pooling_cosines) == len(df)"
   ]
  },
  {
   "cell_type": "code",
   "execution_count": 57,
   "metadata": {},
   "outputs": [],
   "source": [
    "df[\"max_pooling_cosines\"] = max_pooling_cosines"
   ]
  },
  {
   "cell_type": "code",
   "execution_count": 58,
   "metadata": {},
   "outputs": [],
   "source": [
    "# сделаем разметку по заранее подобранному порогу 0.4\n",
    "tag_1_indexes = df[df.max_pooling_cosines >= float(0.4)].index.tolist()\n",
    "tags = []\n",
    "for i in df.index:\n",
    "    if i in tag_1_indexes:\n",
    "        tags.append(1)\n",
    "    else:\n",
    "        tags.append(0) "
   ]
  },
  {
   "cell_type": "code",
   "execution_count": 59,
   "metadata": {},
   "outputs": [],
   "source": [
    "df[\"max_pooling\"] = tags"
   ]
  },
  {
   "cell_type": "code",
   "execution_count": 60,
   "metadata": {},
   "outputs": [
    {
     "name": "stdout",
     "output_type": "stream",
     "text": [
      "              precision    recall  f1-score   support\n",
      "\n",
      "           0       0.61      0.54      0.57       202\n",
      "           1       0.81      0.85      0.83       473\n",
      "\n",
      "   micro avg       0.76      0.76      0.76       675\n",
      "   macro avg       0.71      0.70      0.70       675\n",
      "weighted avg       0.75      0.76      0.75       675\n",
      "\n"
     ]
    }
   ],
   "source": [
    "print(classification_report(df.binary_tag, df.max_pooling))"
   ]
  },
  {
   "cell_type": "markdown",
   "metadata": {},
   "source": [
    "## Тестируем модель 3: конкатенация усреднения и max pooling"
   ]
  },
  {
   "cell_type": "code",
   "execution_count": 61,
   "metadata": {},
   "outputs": [
    {
     "data": {
      "text/plain": [
       "1883"
      ]
     },
     "execution_count": 61,
     "metadata": {},
     "output_type": "execute_result"
    }
   ],
   "source": [
    "len(tok2vec)"
   ]
  },
  {
   "cell_type": "code",
   "execution_count": 63,
   "metadata": {},
   "outputs": [
    {
     "data": {
      "application/vnd.jupyter.widget-view+json": {
       "model_id": "612a8f5263c4499f9b452c28c0e076b2",
       "version_major": 2,
       "version_minor": 0
      },
      "text/plain": [
       "HBox(children=(IntProgress(value=0, max=675), HTML(value='')))"
      ]
     },
     "metadata": {},
     "output_type": "display_data"
    },
    {
     "name": "stdout",
     "output_type": "stream",
     "text": [
      "\n"
     ]
    }
   ],
   "source": [
    "similarities = []\n",
    "for q1,q2 in tqdm(queries):\n",
    "    aver_vec1 = model_f.get_sentence_vector(q1)\n",
    "    aver_vec2 = model_f.get_sentence_vector(q2)\n",
    "    vec1 = []\n",
    "    vec2 = []\n",
    "    for word in tokenize_query(q1):\n",
    "        vec1.append(tok2vec[word])\n",
    "    for word in tokenize_query(q2):\n",
    "        vec2.append(tok2vec[word])\n",
    "    max_vec1 = max_pooling(vec1)\n",
    "    max_vec2 = max_pooling(vec2)\n",
    "    \n",
    "    vec_1 = np.concatenate((aver_vec1, max_vec1))\n",
    "    vec_2 = np.concatenate((aver_vec2, max_vec2))\n",
    "    similarities.append(similarity(vec_1, vec_2))"
   ]
  },
  {
   "cell_type": "code",
   "execution_count": 64,
   "metadata": {},
   "outputs": [
    {
     "data": {
      "text/plain": [
       "[0.49413254857063293,\n",
       " 0.8844316601753235,\n",
       " 0.7442746162414551,\n",
       " 0.6770100593566895,\n",
       " 0.40269598364830017]"
      ]
     },
     "execution_count": 64,
     "metadata": {},
     "output_type": "execute_result"
    }
   ],
   "source": [
    "similarities[-5:]"
   ]
  },
  {
   "cell_type": "code",
   "execution_count": 65,
   "metadata": {},
   "outputs": [],
   "source": [
    "df[\"aver_max_cosines\"] = similarities\n",
    "\n",
    "# сделаем разметку по заранее подобранному порогу 0.4\n",
    "tag_1_indexes = df[df.aver_max_cosines >= float(0.4)].index.tolist()\n",
    "tags = []\n",
    "for i in df.index:\n",
    "    if i in tag_1_indexes:\n",
    "        tags.append(1)\n",
    "    else:\n",
    "        tags.append(0) "
   ]
  },
  {
   "cell_type": "code",
   "execution_count": 66,
   "metadata": {},
   "outputs": [],
   "source": [
    "df[\"aver_max\"] = tags"
   ]
  },
  {
   "cell_type": "code",
   "execution_count": 67,
   "metadata": {},
   "outputs": [
    {
     "name": "stdout",
     "output_type": "stream",
     "text": [
      "              precision    recall  f1-score   support\n",
      "\n",
      "           0       0.61      0.54      0.58       202\n",
      "           1       0.81      0.85      0.83       473\n",
      "\n",
      "   micro avg       0.76      0.76      0.76       675\n",
      "   macro avg       0.71      0.70      0.71       675\n",
      "weighted avg       0.75      0.76      0.76       675\n",
      "\n"
     ]
    }
   ],
   "source": [
    "print(classification_report(df.binary_tag, df.aver_max))"
   ]
  },
  {
   "cell_type": "markdown",
   "metadata": {},
   "source": [
    "## Тестируем модель 4: Hierarchical pooling"
   ]
  },
  {
   "cell_type": "code",
   "execution_count": 85,
   "metadata": {},
   "outputs": [],
   "source": [
    "def hierarchical_pooling(word_vecs:list, n=2):\n",
    "    matrix = np.array(word_vecs)\n",
    "    n_tokens = matrix.shape[0]\n",
    "    if n_tokens == 1:\n",
    "        return matrix.squeeze(0)\n",
    "    if n_tokens == n:\n",
    "        matrix_mean = matrix.mean(0)\n",
    "        return matrix_mean\n",
    "    if n_tokens > n:\n",
    "        new_matrix = []\n",
    "        for i in range(n_tokens-n+1):\n",
    "            needle = matrix[i:i+n]\n",
    "            needle_mean = needle.mean(0)\n",
    "            new_matrix.append(needle_mean)\n",
    "        new_matrix = np.array(new_matrix)\n",
    "        pooled_vec = skimage.measure.block_reduce(new_matrix, (len(new_matrix),1), np.max)\n",
    "        return pooled_vec.squeeze(0)"
   ]
  },
  {
   "cell_type": "code",
   "execution_count": 69,
   "metadata": {},
   "outputs": [],
   "source": [
    "hierarchical_cosines = []\n",
    "\n",
    "for q1, q2 in queries:\n",
    "    vec1 = []\n",
    "    vec2 = []\n",
    "    for word in tokenize_query(q1):\n",
    "        vec1.append(tok2vec[word])\n",
    "    for word in tokenize_query(q2):\n",
    "        vec2.append(tok2vec[word])\n",
    "    vec1 = hierarchical_pooling(vec1)\n",
    "    vec2 = hierarchical_pooling(vec2)\n",
    "    hierarchical_cosines.append(similarity(vec1, vec2))"
   ]
  },
  {
   "cell_type": "code",
   "execution_count": 70,
   "metadata": {},
   "outputs": [
    {
     "data": {
      "text/plain": [
       "[0.9437752366065979, 0.9381735324859619, 0.9131990075111389]"
      ]
     },
     "execution_count": 70,
     "metadata": {},
     "output_type": "execute_result"
    }
   ],
   "source": [
    "hierarchical_cosines[:3]"
   ]
  },
  {
   "cell_type": "code",
   "execution_count": 71,
   "metadata": {},
   "outputs": [],
   "source": [
    "df[\"hierarchical_cosines\"] = hierarchical_cosines"
   ]
  },
  {
   "cell_type": "code",
   "execution_count": 72,
   "metadata": {},
   "outputs": [],
   "source": [
    "# сделаем разметку по заранее подобранному порогу 0.4\n",
    "tag_1_indexes = df[df.hierarchical_cosines >= float(0.4)].index.tolist()\n",
    "tags = []\n",
    "for i in df.index:\n",
    "    if i in tag_1_indexes:\n",
    "        tags.append(1)\n",
    "    else:\n",
    "        tags.append(0) "
   ]
  },
  {
   "cell_type": "code",
   "execution_count": 73,
   "metadata": {},
   "outputs": [],
   "source": [
    "df[\"hier\"] = tags"
   ]
  },
  {
   "cell_type": "code",
   "execution_count": 74,
   "metadata": {},
   "outputs": [
    {
     "name": "stdout",
     "output_type": "stream",
     "text": [
      "              precision    recall  f1-score   support\n",
      "\n",
      "           0       0.72      0.74      0.73       202\n",
      "           1       0.89      0.88      0.88       473\n",
      "\n",
      "   micro avg       0.83      0.83      0.83       675\n",
      "   macro avg       0.80      0.81      0.80       675\n",
      "weighted avg       0.84      0.83      0.83       675\n",
      "\n"
     ]
    }
   ],
   "source": [
    "print(classification_report(df.binary_tag, df.hier))"
   ]
  },
  {
   "cell_type": "code",
   "execution_count": 76,
   "metadata": {},
   "outputs": [
    {
     "data": {
      "image/png": "[encoded data removed]",
      "text/plain": [
       "<Figure size 432x432 with 1 Axes>"
      ]
     },
     "metadata": {},
     "output_type": "display_data"
    },
    {
     "name": "stdout",
     "output_type": "stream",
     "text": [
      "              precision    recall  f1-score   support\n",
      "\n",
      "           0       0.72      0.74      0.73       202\n",
      "           1       0.89      0.88      0.88       473\n",
      "\n",
      "   micro avg       0.83      0.83      0.83       675\n",
      "   macro avg       0.80      0.81      0.80       675\n",
      "weighted avg       0.84      0.83      0.83       675\n",
      "\n"
     ]
    }
   ],
   "source": [
    "from sklearn.metrics import confusion_matrix\n",
    "import matplotlib.pyplot as plt\n",
    "import seaborn as sns\n",
    "import numpy as np\n",
    "\n",
    "m = confusion_matrix(df.binary_tag, df.hier)\n",
    "sns.set(font_scale=1.2)\n",
    "plt.figure(figsize = (6,6))\n",
    "sns.heatmap(data=m, annot=True, fmt=\"d\", cbar=False, \n",
    "            xticklabels=[\"разный интент\", \"одинаковый интент\"], \n",
    "            yticklabels=[\"разный интент\", \"одинаковый интент\"], \n",
    "            cmap=\"PuRd\",\n",
    "           annot_kws={\"size\": 15})\n",
    "plt.title(\"Матрица ошибок: Hierarchical Pooling\", fontsize=15)\n",
    "plt.show()\n",
    "\n",
    "print(classification_report(df.binary_tag, df.hier))"
   ]
  },
  {
   "cell_type": "markdown",
   "metadata": {},
   "source": [
    "## Тестируем модель 5: IDF + Aver + Cosine"
   ]
  },
  {
   "cell_type": "code",
   "execution_count": 77,
   "metadata": {},
   "outputs": [
    {
     "data": {
      "application/vnd.jupyter.widget-view+json": {
       "model_id": "f3d90d8d9ffb4e2883736367923da1d6",
       "version_major": 2,
       "version_minor": 0
      },
      "text/plain": [
       "HBox(children=(IntProgress(value=1, bar_style='info', max=1), HTML(value='')))"
      ]
     },
     "metadata": {},
     "output_type": "display_data"
    },
    {
     "name": "stdout",
     "output_type": "stream",
     "text": [
      "\n"
     ]
    }
   ],
   "source": [
    "from collections import defaultdict\n",
    "\n",
    "\n",
    "# собираем idf-корпус из заголовков объявлений\n",
    "freq_dict = defaultdict(int)\n",
    "document_count = 0\n",
    "\n",
    "prev_line = None\n",
    "\n",
    "for line in tqdm(open(\"/Users/amnikolaeva/hse/diplom/fastText-0.9.1/cleaned_titles_full.txt\", \"r\")):\n",
    "    if line == prev_line:\n",
    "        continue\n",
    "    prev_line = line\n",
    "    \n",
    "    tokens = line.split()\n",
    "    for t in tokens:\n",
    "        freq_dict[t] += 1\n",
    "        \n",
    "    document_count += 1"
   ]
  },
  {
   "cell_type": "code",
   "execution_count": 78,
   "metadata": {},
   "outputs": [
    {
     "data": {
      "text/plain": [
       "(2485667, 54532823)"
      ]
     },
     "execution_count": 78,
     "metadata": {},
     "output_type": "execute_result"
    }
   ],
   "source": [
    "len(freq_dict), document_count"
   ]
  },
  {
   "cell_type": "code",
   "execution_count": 79,
   "metadata": {},
   "outputs": [],
   "source": [
    "def idf(token):\n",
    "    if freq_dict[token] == 0:            \n",
    "        return -np.log10(1/document_count)\n",
    "    else:\n",
    "        return -np.log10(freq_dict[token]/document_count)"
   ]
  },
  {
   "cell_type": "code",
   "execution_count": 80,
   "metadata": {},
   "outputs": [],
   "source": [
    "idf_cosines = []\n",
    "\n",
    "for q1, q2 in queries:\n",
    "    vec1 = []\n",
    "    vec2 = []\n",
    "    for word in tokenize_query(q1):\n",
    "        vec = tok2vec[word]\n",
    "        res = idf(word)\n",
    "        vec1.append(res * vec)\n",
    "        \n",
    "    for word in tokenize_query(q2):\n",
    "        vec = tok2vec[word]\n",
    "        res = idf(word)\n",
    "        vec2.append(res * vec)\n",
    "        \n",
    "    vec1 = sum(vec1)/len(vec1)\n",
    "    vec2 = sum(vec2)/len(vec2)\n",
    "    \n",
    "    idf_cosines.append(similarity(vec1, vec2))"
   ]
  },
  {
   "cell_type": "code",
   "execution_count": 81,
   "metadata": {},
   "outputs": [],
   "source": [
    "df[\"idf_cosines\"] = idf_cosines"
   ]
  },
  {
   "cell_type": "code",
   "execution_count": 82,
   "metadata": {},
   "outputs": [],
   "source": [
    "# сделаем разметку по заранее подобранному порогу 0.4\n",
    "tag_1_indexes = df[df.idf_cosines >= float(0.4)].index.tolist()\n",
    "tags = []\n",
    "for i in df.index:\n",
    "    if i in tag_1_indexes:\n",
    "        tags.append(1)\n",
    "    else:\n",
    "        tags.append(0) "
   ]
  },
  {
   "cell_type": "code",
   "execution_count": 83,
   "metadata": {},
   "outputs": [],
   "source": [
    "df[\"idf\"] = tags"
   ]
  },
  {
   "cell_type": "code",
   "execution_count": 84,
   "metadata": {},
   "outputs": [
    {
     "name": "stdout",
     "output_type": "stream",
     "text": [
      "              precision    recall  f1-score   support\n",
      "\n",
      "           0       0.73      0.71      0.72       202\n",
      "           1       0.88      0.89      0.88       473\n",
      "\n",
      "   micro avg       0.83      0.83      0.83       675\n",
      "   macro avg       0.80      0.80      0.80       675\n",
      "weighted avg       0.83      0.83      0.83       675\n",
      "\n"
     ]
    }
   ],
   "source": [
    "print(classification_report(df.binary_tag, df.idf))"
   ]
  }
 ],
 "metadata": {
  "kernelspec": {
   "display_name": "Python 3",
   "language": "python",
   "name": "python3"
  },
  "language_info": {
   "codemirror_mode": {
    "name": "ipython",
    "version": 3
   },
   "file_extension": ".py",
   "mimetype": "text/x-python",
   "name": "python",
   "nbconvert_exporter": "python",
   "pygments_lexer": "ipython3",
   "version": "3.7.6"
  }
 },
 "nbformat": 4,
 "nbformat_minor": 4
}
